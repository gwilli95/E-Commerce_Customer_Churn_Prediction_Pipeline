{
 "cells": [
  {
   "cell_type": "code",
   "execution_count": 1,
   "metadata": {},
   "outputs": [],
   "source": [
    "#scikit-learn import statements\n",
    "from sklearn.model_selection import train_test_split\n",
    "from sklearn.ensemble import RandomForestClassifier\n",
    "from sklearn.metrics import classification_report"
   ]
  },
  {
   "cell_type": "code",
   "execution_count": 2,
   "metadata": {},
   "outputs": [],
   "source": [
    "#Re-loading DataFrame\n",
    "import pandas as pd # type: ignore\n",
    "df = pd.read_csv(\"wdbc_df.csv\")\n",
    "\n",
    "#Defining X and y\n",
    "X = df.drop(columns = [\"ID\", \"Diagnosis\"])\n",
    "y = df[\"Diagnosis\"]\n",
    "\n",
    "#Splitting the data for training, including passing the index for adding shuffled train and test predictions to the correct indices of the dataset\n",
    "X_train, X_test, y_train, y_test, idx_train, idx_test = train_test_split(X, y, df.index, test_size = 0.2, random_state = 42)\n",
    "\n",
    "  #stratify? understand why if so"
   ]
  },
  {
   "cell_type": "markdown",
   "metadata": {},
   "source": [
    "I drop ID because it isn't a meaningful feature and could lead to overfitting\n",
    "\n",
    "No scaling required for random forest"
   ]
  },
  {
   "cell_type": "code",
   "execution_count": 3,
   "metadata": {},
   "outputs": [
    {
     "data": {
      "text/plain": [
       "['rfc_wdbc.joblib']"
      ]
     },
     "execution_count": 3,
     "metadata": {},
     "output_type": "execute_result"
    }
   ],
   "source": [
    "import joblib # type: ignore\n",
    "\n",
    "#Instantiating and training the model\n",
    "model = RandomForestClassifier()\n",
    "model.fit(X_train, y_train)\n",
    "\n",
    "#Saving the trained model using joblib\n",
    "model_file = \"rfc_wdbc.joblib\"\n",
    "joblib.dump(model, model_file)\n",
    "#print(joblib.load(model_file).predict(X_test)) #Testing"
   ]
  },
  {
   "cell_type": "code",
   "execution_count": 4,
   "metadata": {},
   "outputs": [
    {
     "name": "stdout",
     "output_type": "stream",
     "text": [
      "Train classification report:\n",
      "               precision    recall  f1-score   support\n",
      "\n",
      "           B       1.00      1.00      1.00       286\n",
      "           M       1.00      1.00      1.00       169\n",
      "\n",
      "    accuracy                           1.00       455\n",
      "   macro avg       1.00      1.00      1.00       455\n",
      "weighted avg       1.00      1.00      1.00       455\n",
      "\n",
      "Test classification report:\n",
      "               precision    recall  f1-score   support\n",
      "\n",
      "           B       0.96      0.99      0.97        71\n",
      "           M       0.98      0.93      0.95        43\n",
      "\n",
      "    accuracy                           0.96       114\n",
      "   macro avg       0.97      0.96      0.96       114\n",
      "weighted avg       0.97      0.96      0.96       114\n",
      "\n"
     ]
    }
   ],
   "source": [
    "#Running predictions using the saved model\n",
    "rfc = joblib.load(model_file)\n",
    "y_train_pred = rfc.predict(X_train)\n",
    "y_test_pred = rfc.predict(X_test)\n",
    "\n",
    "#Evaluating model performance\n",
    "print(\"Train classification report:\\n\", classification_report(y_train, y_train_pred))\n",
    "print(\"Test classification report:\\n\", classification_report(y_test, y_test_pred))\n",
    "\n",
    "#Adding the predictions back to the DataFrame\n",
    "df.loc[idx_train, \"RFC_Predicted_Diagnosis\"] = y_train_pred\n",
    "df.loc[idx_test, \"RFC_Predicted_Diagnosis\"] = y_test_pred\n",
    "\n",
    "#Saving the augmented output DataFrame to a CSV file\n",
    "output_file = \"wdbc_rfc_pred.csv\"\n",
    "df.to_csv(output_file)\n",
    "#with open(output_file, \"r\") as f:\n",
    "  #print(f.read()) #Testing\n",
    "\n",
    "#df[df[\"Diagnosis\"] != df[\"RFC_Predicted_Diagnosis\"]]"
   ]
  }
 ],
 "metadata": {
  "kernelspec": {
   "display_name": ".venv",
   "language": "python",
   "name": "python3"
  },
  "language_info": {
   "codemirror_mode": {
    "name": "ipython",
    "version": 3
   },
   "file_extension": ".py",
   "mimetype": "text/x-python",
   "name": "python",
   "nbconvert_exporter": "python",
   "pygments_lexer": "ipython3",
   "version": "3.13.5"
  }
 },
 "nbformat": 4,
 "nbformat_minor": 2
}
